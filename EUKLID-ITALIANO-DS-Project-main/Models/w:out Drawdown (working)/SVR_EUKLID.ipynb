{
 "cells": [
  {
   "cell_type": "code",
   "execution_count": 1,
   "id": "26eca252",
   "metadata": {
    "scrolled": true
   },
   "outputs": [],
   "source": [
    "from pandas import DataFrame\n",
    "from pandas import concat\n",
    "from math import sqrt\n",
    "from numpy import concatenate\n",
    "import numpy as np\n",
    "from pandas import read_csv\n",
    "from sklearn.preprocessing import MinMaxScaler\n",
    "from sklearn.metrics import mean_squared_error\n",
    "from sklearn.svm import SVR\n",
    "from matplotlib import pyplot\n",
    "import pandas as pd\n",
    "import matplotlib.pyplot as plt\n",
    "%matplotlib inline\n",
    "from sklearn import datasets\n",
    "from sklearn import metrics\n",
    "from sklearn.model_selection import train_test_split\n",
    "import seaborn as sns\n",
    "from sklearn.svm import SVC, SVR\n",
    "import plotly.express as px\n",
    "import  scipy.signal.signaltools\n",
    "\n",
    "def _centered(arr, newsize):\n",
    "    # Return the center newsize portion of the array.\n",
    "    newsize = np.asarray(newsize)\n",
    "    currsize = np.array(arr.shape)\n",
    "    startind = (currsize - newsize) // 2\n",
    "    endind = startind + newsize\n",
    "    myslice = [slice(startind[k], endind[k]) for k in range(len(endind))]\n",
    "    return arr[tuple(myslice)]\n",
    "\n",
    "scipy.signal.signaltools._centered = _centered\n",
    "from statsmodels.tsa.api import SimpleExpSmoothing\n",
    "import matplotlib.pyplot as plt\n",
    "\n"
   ]
  },
  {
   "cell_type": "code",
   "execution_count": 2,
   "id": "6cc081b8",
   "metadata": {},
   "outputs": [],
   "source": [
    "\n",
    "df = pd.read_excel(\"/Users/ale/Desktop/ML/Historical Series Case Study LUISS (2).xlsx\", sheet_name='IBM')\n",
    "df.head()\n",
    "df.columns\n",
    "\n",
    "df = df.iloc[:,:2]\n",
    "df.columns=['IBM DAILY DATA','Price close']\n",
    "df = df.drop(0, axis=0)\n",
    "df['Price close']=df['Price close'].astype('float')\n",
    "\n",
    "\n",
    "\n"
   ]
  },
  {
   "cell_type": "code",
   "execution_count": 3,
   "id": "229c9ebe",
   "metadata": {},
   "outputs": [],
   "source": [
    "# split into train and test \n",
    "df_train=df[:4000]\n",
    "df_train=df_train.dropna()\n",
    "df_test=df[4000:]\n",
    "df_test=df_test.dropna()\n",
    "\n",
    "def df_to_X_y(df,windowsize=30):\n",
    "    df_as_np = df.to_numpy()\n",
    "    X=[]\n",
    "    y=[]\n",
    "    for i in range(len(df_as_np)-windowsize):\n",
    "        row = [[a] for a in df_as_np[i:i+windowsize]]\n",
    "        X.append(row)\n",
    "        label = df_as_np[i+windowsize]\n",
    "        y.append(label)\n",
    "    return np.array(X), np.array(y)\n",
    "Close = df['Price close']\n",
    "WINDOWSIZE = 30\n",
    "X,y = df_to_X_y(Close, WINDOWSIZE)\n",
    "Close.shape, X.shape, y.shape\n",
    "\n",
    "df_train, X_train, y_train = df[\"Price close\"].index[:4000], X[:4000], y[:4000]\n",
    "df_test, X_test, y_test = df[\"Price close\"].index[4000:], X[4000:], y[4000:]"
   ]
  },
  {
   "cell_type": "code",
   "execution_count": 4,
   "id": "0bc98293",
   "metadata": {},
   "outputs": [
    {
     "data": {
      "text/plain": [
       "(4000, 30, 1)"
      ]
     },
     "execution_count": 4,
     "metadata": {},
     "output_type": "execute_result"
    }
   ],
   "source": [
    "X_train.shape\n"
   ]
  },
  {
   "cell_type": "code",
   "execution_count": 5,
   "id": "24293437",
   "metadata": {},
   "outputs": [],
   "source": [
    "X_train = np.reshape(X_train,(4000, 30))\n"
   ]
  },
  {
   "cell_type": "code",
   "execution_count": 6,
   "id": "0112ed20",
   "metadata": {},
   "outputs": [
    {
     "data": {
      "text/plain": [
       "1        61.780476\n",
       "2        66.433693\n",
       "3        64.178642\n",
       "4        66.433693\n",
       "5        65.288307\n",
       "           ...    \n",
       "5562    135.606552\n",
       "5563    135.389175\n",
       "5564    136.149994\n",
       "5565    133.520004\n",
       "5566    132.690002\n",
       "Name: Price close, Length: 5566, dtype: float64"
      ]
     },
     "execution_count": 6,
     "metadata": {},
     "output_type": "execute_result"
    }
   ],
   "source": [
    "df[\"Price close\"]"
   ]
  },
  {
   "cell_type": "code",
   "execution_count": 7,
   "id": "111b81e4",
   "metadata": {},
   "outputs": [
    {
     "name": "stdout",
     "output_type": "stream",
     "text": [
      "[LibSVM]"
     ]
    },
    {
     "data": {
      "text/plain": [
       "SVR(C=1000.0, coef0=1, verbose=2)"
      ]
     },
     "execution_count": 7,
     "metadata": {},
     "output_type": "execute_result"
    }
   ],
   "source": [
    "# design svm model\n",
    "clf = SVR(kernel=\"rbf\", C=1000.0, degree=3, epsilon=0.1, coef0=1, verbose=2)\n",
    "\n",
    "# fit model\n",
    "clf.fit(X_train,y_train)\n",
    "\n"
   ]
  },
  {
   "cell_type": "code",
   "execution_count": 8,
   "id": "ead1019d",
   "metadata": {},
   "outputs": [
    {
     "data": {
      "text/plain": [
       "(1536, 30, 1)"
      ]
     },
     "execution_count": 8,
     "metadata": {},
     "output_type": "execute_result"
    }
   ],
   "source": [
    "X_test.shape\n"
   ]
  },
  {
   "cell_type": "code",
   "execution_count": 9,
   "id": "abd59e0d",
   "metadata": {},
   "outputs": [],
   "source": [
    "X_test = np.reshape(X_test,(1536, 30))"
   ]
  },
  {
   "cell_type": "code",
   "execution_count": 10,
   "id": "36ee2c44",
   "metadata": {},
   "outputs": [
    {
     "name": "stdout",
     "output_type": "stream",
     "text": [
      "[ 96.21704121  95.7219087   96.69425259 ... 135.290163   136.1152122\n",
      " 133.85832579]\n",
      "(1536, 1) (1536, 30)\n"
     ]
    }
   ],
   "source": [
    "# make a prediction\n",
    "predict_y = clf.predict(X_test)\n",
    "print(predict_y)\n",
    "\n",
    "yhat = predict_y.reshape(predict_y.shape[0],1)\n",
    "print(yhat.shape,X_test.shape)\n"
   ]
  },
  {
   "cell_type": "code",
   "execution_count": 11,
   "id": "29033a40",
   "metadata": {},
   "outputs": [
    {
     "name": "stdout",
     "output_type": "stream",
     "text": [
      "[65.95857185 66.56580771 67.10376664 ... 98.54092002 98.10837402\n",
      " 97.33880924]\n"
     ]
    }
   ],
   "source": [
    "predict_x = clf.predict(X_train)\n",
    "print(predict_x)\n",
    "xhat = predict_x.reshape(predict_x.shape[0],1)\n"
   ]
  },
  {
   "cell_type": "code",
   "execution_count": 12,
   "id": "06aa6b3d",
   "metadata": {},
   "outputs": [
    {
     "name": "stdout",
     "output_type": "stream",
     "text": [
      "           IBM DAILY DATA  Price close\n",
      "1     1999-12-31 00:00:00    61.780476\n",
      "2     2000-01-03 00:00:00    66.433693\n",
      "3     2000-01-04 00:00:00    64.178642\n",
      "4     2000-01-05 00:00:00    66.433693\n",
      "5     2000-01-06 00:00:00    65.288307\n",
      "...                   ...          ...\n",
      "5562  2022-02-07 00:00:00   135.606552\n",
      "5563  2022-02-08 00:00:00   135.389175\n",
      "5564  2022-02-09 00:00:00   136.149994\n",
      "5565  2022-02-10 00:00:00   133.520004\n",
      "5566  2022-02-11 00:00:00   132.690002\n",
      "\n",
      "[5566 rows x 2 columns]\n",
      "      Prediction\n",
      "0      65.958572\n",
      "1      66.565808\n",
      "2      67.103767\n",
      "3      66.511218\n",
      "4      66.687531\n",
      "...          ...\n",
      "5531  135.103283\n",
      "5532  135.519942\n",
      "5533  135.290163\n",
      "5534  136.115212\n",
      "5535  133.858326\n",
      "\n",
      "[5536 rows x 1 columns]\n"
     ]
    }
   ],
   "source": [
    "print(df)\n",
    "prediction_x = pd.DataFrame(predict_x, \n",
    "             columns=['Prediction'])\n",
    "prediction_y = pd.DataFrame(predict_y, \n",
    "             columns=['Prediction'])\n",
    "Prediction=pd.concat([prediction_x,prediction_y], ignore_index=True)\n",
    "print(Prediction)"
   ]
  },
  {
   "cell_type": "code",
   "execution_count": 13,
   "id": "23504107",
   "metadata": {},
   "outputs": [
    {
     "name": "stdout",
     "output_type": "stream",
     "text": [
      "Test RMSE: 1.855\n"
     ]
    }
   ],
   "source": [
    "# calculate RMSE\n",
    "rmse = sqrt(mean_squared_error(y_test, predict_y))\n",
    "print('Test RMSE: %.3f' % rmse)"
   ]
  },
  {
   "cell_type": "code",
   "execution_count": 14,
   "id": "4ae54992",
   "metadata": {},
   "outputs": [
    {
     "name": "stdout",
     "output_type": "stream",
     "text": [
      "Test mape: 1\n"
     ]
    }
   ],
   "source": [
    "# calculate MAPE\n",
    "mape = np.mean(np.fabs((y_test - predict_y ) / y_test)) * 100\n",
    "print('Test mape: %d' % mape)\n"
   ]
  },
  {
   "cell_type": "code",
   "execution_count": 15,
   "id": "0a667545",
   "metadata": {},
   "outputs": [
    {
     "data": {
      "image/png": "[encoded data removed]",
      "text/plain": [
       "<Figure size 432x288 with 1 Axes>"
      ]
     },
     "metadata": {
      "needs_background": "light"
     },
     "output_type": "display_data"
    }
   ],
   "source": [
    "# plot \n",
    "pyplot.plot([x for x in range(1, predict_y.shape[0]+1)], predict_y, linestyle='-', color='red', label='Prediction')\n",
    "pyplot.plot([x for x in range(1, y_test.shape[0]+1)], y_test, linestyle='-', color='blue', label='Price close')\n",
    "pyplot.legend(loc=1, prop={'size': 12})\n",
    "pyplot.show()"
   ]
  },
  {
   "cell_type": "code",
   "execution_count": 16,
   "id": "a581109e",
   "metadata": {},
   "outputs": [
    {
     "name": "stdout",
     "output_type": "stream",
     "text": [
      "           IBM DAILY DATA  Price close  Prediction\n",
      "1     1999-12-31 00:00:00    61.780476   66.565808\n",
      "2     2000-01-03 00:00:00    66.433693   67.103767\n",
      "3     2000-01-04 00:00:00    64.178642   66.511218\n",
      "4     2000-01-05 00:00:00    66.433693   66.687531\n",
      "5     2000-01-06 00:00:00    65.288307   65.038529\n",
      "...                   ...          ...         ...\n",
      "5531  2021-12-22 00:00:00   128.205688  135.103283\n",
      "5532  2021-12-23 00:00:00   129.075226  135.519942\n",
      "5533  2021-12-27 00:00:00   130.053436  135.290163\n",
      "5534  2021-12-28 00:00:00   131.051422  136.115212\n",
      "5535  2021-12-29 00:00:00   131.762848  133.858326\n",
      "\n",
      "[5535 rows x 3 columns]\n"
     ]
    }
   ],
   "source": [
    "dff_pred=df.assign(Prediction=pd.concat([prediction_x,prediction_y], ignore_index=True))\n",
    "dff_pred.drop(dff_pred.tail(31).index, inplace=True)\n",
    "print(dff_pred)\n"
   ]
  },
  {
   "cell_type": "code",
   "execution_count": 17,
   "id": "92795f33",
   "metadata": {
    "scrolled": false
   },
   "outputs": [
    {
     "name": "stdout",
     "output_type": "stream",
     "text": [
      "           IBM DAILY DATA  Price close  Prediction  Strategy Pre\n",
      "0     2000-01-03 00:00:00    66.433693   67.103767             1\n",
      "1     2000-01-04 00:00:00    64.178642   66.511218             0\n",
      "2     2000-01-05 00:00:00    66.433693   66.687531             1\n",
      "3     2000-01-06 00:00:00    65.288307   65.038529             0\n",
      "4     2000-01-07 00:00:00    65.001938   63.730684             0\n",
      "...                   ...          ...         ...           ...\n",
      "5529  2021-12-22 00:00:00   128.205688  135.103283             0\n",
      "5530  2021-12-23 00:00:00   129.075226  135.519942             1\n",
      "5531  2021-12-27 00:00:00   130.053436  135.290163             0\n",
      "5532  2021-12-28 00:00:00   131.051422  136.115212             1\n",
      "5533  2021-12-29 00:00:00   131.762848  133.858326             0\n",
      "\n",
      "[5534 rows x 4 columns]\n"
     ]
    },
    {
     "name": "stderr",
     "output_type": "stream",
     "text": [
      "<ipython-input-17-f8705c53e10e>:26: SettingWithCopyWarning: \n",
      "A value is trying to be set on a copy of a slice from a DataFrame.\n",
      "Try using .loc[row_indexer,col_indexer] = value instead\n",
      "\n",
      "See the caveats in the documentation: https://pandas.pydata.org/pandas-docs/stable/user_guide/indexing.html#returning-a-view-versus-a-copy\n",
      "  test_results['Strategy Pre'] = np.array(strategy_pre)\n"
     ]
    }
   ],
   "source": [
    "prezzo = []\n",
    "for i in dff_pred['Price close']:\n",
    "    prezzo.append(i)\n",
    "strategy_act=[]\n",
    "i=1\n",
    "while i < len(prezzo):\n",
    "    if prezzo[i]>prezzo[i-1]:\n",
    "        strategy_act.append(1)\n",
    "    else:\n",
    "        strategy_act.append(0)\n",
    "    i=i+1\n",
    "prezzo_pre = []\n",
    "for i in dff_pred['Prediction']:\n",
    "    prezzo_pre.append(i)\n",
    "    \n",
    "strategy_pre=[]\n",
    "i=1\n",
    "while i < len(prezzo_pre):\n",
    "    if prezzo_pre[i]>prezzo_pre[i-1]:\n",
    "        strategy_pre.append(1)\n",
    "    else:\n",
    "        strategy_pre.append(0)\n",
    "    i=i+1\n",
    "test_results = dff_pred.iloc[1:]\n",
    "test_results.reset_index(inplace=True,drop=True)\n",
    "test_results['Strategy Pre'] = np.array(strategy_pre)\n",
    "print(test_results)"
   ]
  },
  {
   "cell_type": "code",
   "execution_count": 18,
   "id": "4bb5cead",
   "metadata": {},
   "outputs": [
    {
     "name": "stderr",
     "output_type": "stream",
     "text": [
      "<ipython-input-18-42c4f7bf01b5>:6: SettingWithCopyWarning: \n",
      "A value is trying to be set on a copy of a slice from a DataFrame.\n",
      "Try using .loc[row_indexer,col_indexer] = value instead\n",
      "\n",
      "See the caveats in the documentation: https://pandas.pydata.org/pandas-docs/stable/user_guide/indexing.html#returning-a-view-versus-a-copy\n",
      "  test_results[\"IBM DAILY DATA\"]=pd.to_datetime(test_results[\"IBM DAILY DATA\"])\n"
     ]
    },
    {
     "data": {
      "text/html": [
       "<div>\n",
       "<style scoped>\n",
       "    .dataframe tbody tr th:only-of-type {\n",
       "        vertical-align: middle;\n",
       "    }\n",
       "\n",
       "    .dataframe tbody tr th {\n",
       "        vertical-align: top;\n",
       "    }\n",
       "\n",
       "    .dataframe thead th {\n",
       "        text-align: right;\n",
       "    }\n",
       "</style>\n",
       "<table border=\"1\" class=\"dataframe\">\n",
       "  <thead>\n",
       "    <tr style=\"text-align: right;\">\n",
       "      <th></th>\n",
       "      <th>IBM DAILY DATA</th>\n",
       "      <th>Price close</th>\n",
       "      <th>Prediction</th>\n",
       "      <th>Strategy Pre</th>\n",
       "      <th>Open</th>\n",
       "    </tr>\n",
       "  </thead>\n",
       "  <tbody>\n",
       "    <tr>\n",
       "      <th>0</th>\n",
       "      <td>2000-01-03</td>\n",
       "      <td>66.433693</td>\n",
       "      <td>67.103767</td>\n",
       "      <td>1</td>\n",
       "      <td>107.492828</td>\n",
       "    </tr>\n",
       "    <tr>\n",
       "      <th>1</th>\n",
       "      <td>2000-01-04</td>\n",
       "      <td>64.178642</td>\n",
       "      <td>66.511218</td>\n",
       "      <td>0</td>\n",
       "      <td>108.986618</td>\n",
       "    </tr>\n",
       "    <tr>\n",
       "      <th>2</th>\n",
       "      <td>2000-01-05</td>\n",
       "      <td>66.433693</td>\n",
       "      <td>66.687531</td>\n",
       "      <td>1</td>\n",
       "      <td>107.970840</td>\n",
       "    </tr>\n",
       "    <tr>\n",
       "      <th>3</th>\n",
       "      <td>2000-01-06</td>\n",
       "      <td>65.288307</td>\n",
       "      <td>65.038529</td>\n",
       "      <td>0</td>\n",
       "      <td>112.810707</td>\n",
       "    </tr>\n",
       "    <tr>\n",
       "      <th>4</th>\n",
       "      <td>2000-01-07</td>\n",
       "      <td>65.001938</td>\n",
       "      <td>63.730684</td>\n",
       "      <td>0</td>\n",
       "      <td>112.093689</td>\n",
       "    </tr>\n",
       "    <tr>\n",
       "      <th>...</th>\n",
       "      <td>...</td>\n",
       "      <td>...</td>\n",
       "      <td>...</td>\n",
       "      <td>...</td>\n",
       "      <td>...</td>\n",
       "    </tr>\n",
       "    <tr>\n",
       "      <th>5529</th>\n",
       "      <td>2021-12-22</td>\n",
       "      <td>128.205688</td>\n",
       "      <td>135.103283</td>\n",
       "      <td>0</td>\n",
       "      <td>129.059998</td>\n",
       "    </tr>\n",
       "    <tr>\n",
       "      <th>5530</th>\n",
       "      <td>2021-12-23</td>\n",
       "      <td>129.075226</td>\n",
       "      <td>135.519942</td>\n",
       "      <td>1</td>\n",
       "      <td>130.000000</td>\n",
       "    </tr>\n",
       "    <tr>\n",
       "      <th>5531</th>\n",
       "      <td>2021-12-27</td>\n",
       "      <td>130.053436</td>\n",
       "      <td>135.290163</td>\n",
       "      <td>0</td>\n",
       "      <td>130.630005</td>\n",
       "    </tr>\n",
       "    <tr>\n",
       "      <th>5532</th>\n",
       "      <td>2021-12-28</td>\n",
       "      <td>131.051422</td>\n",
       "      <td>136.115212</td>\n",
       "      <td>1</td>\n",
       "      <td>131.600006</td>\n",
       "    </tr>\n",
       "    <tr>\n",
       "      <th>5533</th>\n",
       "      <td>2021-12-29</td>\n",
       "      <td>131.762848</td>\n",
       "      <td>133.858326</td>\n",
       "      <td>0</td>\n",
       "      <td>132.399994</td>\n",
       "    </tr>\n",
       "  </tbody>\n",
       "</table>\n",
       "<p>5534 rows × 5 columns</p>\n",
       "</div>"
      ],
      "text/plain": [
       "     IBM DAILY DATA  Price close  Prediction  Strategy Pre        Open\n",
       "0        2000-01-03    66.433693   67.103767             1  107.492828\n",
       "1        2000-01-04    64.178642   66.511218             0  108.986618\n",
       "2        2000-01-05    66.433693   66.687531             1  107.970840\n",
       "3        2000-01-06    65.288307   65.038529             0  112.810707\n",
       "4        2000-01-07    65.001938   63.730684             0  112.093689\n",
       "...             ...          ...         ...           ...         ...\n",
       "5529     2021-12-22   128.205688  135.103283             0  129.059998\n",
       "5530     2021-12-23   129.075226  135.519942             1  130.000000\n",
       "5531     2021-12-27   130.053436  135.290163             0  130.630005\n",
       "5532     2021-12-28   131.051422  136.115212             1  131.600006\n",
       "5533     2021-12-29   131.762848  133.858326             0  132.399994\n",
       "\n",
       "[5534 rows x 5 columns]"
      ]
     },
     "execution_count": 18,
     "metadata": {},
     "output_type": "execute_result"
    }
   ],
   "source": [
    "import pandas_datareader as web\n",
    "df = pd.DataFrame(web.DataReader('IBM',data_source='yahoo',start='2000-01-03', end='2021-12-29'))\n",
    "\n",
    "df.reset_index(inplace=True)\n",
    "df[\"Date\"]=pd.to_datetime(df[\"Date\"])\n",
    "test_results[\"IBM DAILY DATA\"]=pd.to_datetime(test_results[\"IBM DAILY DATA\"])\n",
    "\n",
    "mergedRes = pd.merge(test_results, df,left_on ='IBM DAILY DATA', right_on =\"Date\")\n",
    "\n",
    "mergedRes.drop([\"Date\",\"High\",\"Low\",\"Close\",\"Volume\",\"Adj Close\"], axis=1)\n",
    "\n"
   ]
  },
  {
   "cell_type": "code",
   "execution_count": 19,
   "id": "408caa11",
   "metadata": {},
   "outputs": [],
   "source": [
    "def apply_strategy(dataframe, target_col, name):\n",
    "#def apply_strategy(mergedRes, mergedRes[\"Strategy Pre\"], \"IBM\"):\n",
    "    \n",
    "    # Create Long/Short columns\n",
    "    dataframe[\"Long\"] = np.zeros(len(target_col))\n",
    "    dataframe[\"LongPct\"] = np.zeros(len(target_col))\n",
    "    dataframe[\"Short\"] = np.zeros(len(target_col))\n",
    "    dataframe[\"ShortPct\"] = np.zeros(len(target_col))\n",
    "    \n",
    "    # Fill Long/Short columns (1 if Long/Short is open, 0 if it's not, based on target_col prediction)\n",
    "    \n",
    "    for i, num in enumerate(target_col):\n",
    "        try:    \n",
    "            if num == 1:\n",
    "                dataframe.Long[i+1] = 1\n",
    "                dataframe.Short[i+1] = 0\n",
    "            else:\n",
    "                dataframe.Long[i+1] = 0\n",
    "                dataframe.Short[i+1] = 1\n",
    "        except IndexError:\n",
    "            break\n",
    "    \n",
    "    for i, num in enumerate(dataframe.Long):\n",
    "        if num == 1:\n",
    "            dataframe.LongPct[i] = (dataframe.Close[i] - dataframe.Open[i])/dataframe.Open[i]\n",
    "        else:\n",
    "            dataframe.LongPct[i] = 0\n",
    "    for i, num in enumerate(dataframe.Short):\n",
    "        if num == 1:\n",
    "            dataframe.ShortPct[i] = ((dataframe.Close[i] - dataframe.Open[i])/dataframe.Open[i])*(-1)\n",
    "        else:\n",
    "            dataframe.ShortPct[i] = 0\n",
    "    \n",
    "    # Evaluation metrics\n",
    "    TotLongPct = sum(dataframe[\"LongPct\"])\n",
    "    TotShortPct = sum(dataframe[\"ShortPct\"])\n",
    "    TotReturnPct = round(TotLongPct + TotShortPct, 2)\n",
    "    BuyNHoldReturn = round(((dataframe.Close.iloc[-1,] - dataframe.Open.iloc[1,])/dataframe.Open.iloc[1,])*100, 2)\n",
    "\n",
    "    \n",
    "    \n",
    "    # Summary output\n",
    "    \n",
    "    print(f\"-----------Performance-----------{name}\")\n",
    "    print(f\"Trading period: {len(dataframe.index)} days\")\n",
    "    print(f\"Net Profit: {TotReturnPct*100}%\")\n",
    "    print(f\"Annualized avg return: {(TotReturnPct*100)/len(dataframe.index)*365}%\")\n",
    "    print(f\"Buy on 1st day and hold till last day strategy would have returned: {BuyNHoldReturn}%\")\n",
    "    print(f\"Result VS buy and hold: {TotReturnPct*100-BuyNHoldReturn}%\")"
   ]
  },
  {
   "cell_type": "code",
   "execution_count": 20,
   "id": "3c1dee18",
   "metadata": {},
   "outputs": [
    {
     "name": "stderr",
     "output_type": "stream",
     "text": [
      "<ipython-input-19-240a271aa21a>:15: SettingWithCopyWarning: \n",
      "A value is trying to be set on a copy of a slice from a DataFrame\n",
      "\n",
      "See the caveats in the documentation: https://pandas.pydata.org/pandas-docs/stable/user_guide/indexing.html#returning-a-view-versus-a-copy\n",
      "  dataframe.Long[i+1] = 1\n",
      "<ipython-input-19-240a271aa21a>:16: SettingWithCopyWarning: \n",
      "A value is trying to be set on a copy of a slice from a DataFrame\n",
      "\n",
      "See the caveats in the documentation: https://pandas.pydata.org/pandas-docs/stable/user_guide/indexing.html#returning-a-view-versus-a-copy\n",
      "  dataframe.Short[i+1] = 0\n",
      "<ipython-input-19-240a271aa21a>:18: SettingWithCopyWarning: \n",
      "A value is trying to be set on a copy of a slice from a DataFrame\n",
      "\n",
      "See the caveats in the documentation: https://pandas.pydata.org/pandas-docs/stable/user_guide/indexing.html#returning-a-view-versus-a-copy\n",
      "  dataframe.Long[i+1] = 0\n",
      "<ipython-input-19-240a271aa21a>:19: SettingWithCopyWarning: \n",
      "A value is trying to be set on a copy of a slice from a DataFrame\n",
      "\n",
      "See the caveats in the documentation: https://pandas.pydata.org/pandas-docs/stable/user_guide/indexing.html#returning-a-view-versus-a-copy\n",
      "  dataframe.Short[i+1] = 1\n",
      "<ipython-input-19-240a271aa21a>:27: SettingWithCopyWarning: \n",
      "A value is trying to be set on a copy of a slice from a DataFrame\n",
      "\n",
      "See the caveats in the documentation: https://pandas.pydata.org/pandas-docs/stable/user_guide/indexing.html#returning-a-view-versus-a-copy\n",
      "  dataframe.LongPct[i] = 0\n",
      "<ipython-input-19-240a271aa21a>:25: SettingWithCopyWarning: \n",
      "A value is trying to be set on a copy of a slice from a DataFrame\n",
      "\n",
      "See the caveats in the documentation: https://pandas.pydata.org/pandas-docs/stable/user_guide/indexing.html#returning-a-view-versus-a-copy\n",
      "  dataframe.LongPct[i] = (dataframe.Close[i] - dataframe.Open[i])/dataframe.Open[i]\n",
      "<ipython-input-19-240a271aa21a>:32: SettingWithCopyWarning: \n",
      "A value is trying to be set on a copy of a slice from a DataFrame\n",
      "\n",
      "See the caveats in the documentation: https://pandas.pydata.org/pandas-docs/stable/user_guide/indexing.html#returning-a-view-versus-a-copy\n",
      "  dataframe.ShortPct[i] = 0\n",
      "<ipython-input-19-240a271aa21a>:30: SettingWithCopyWarning: \n",
      "A value is trying to be set on a copy of a slice from a DataFrame\n",
      "\n",
      "See the caveats in the documentation: https://pandas.pydata.org/pandas-docs/stable/user_guide/indexing.html#returning-a-view-versus-a-copy\n",
      "  dataframe.ShortPct[i] = ((dataframe.Close[i] - dataframe.Open[i])/dataframe.Open[i])*(-1)\n"
     ]
    },
    {
     "name": "stdout",
     "output_type": "stream",
     "text": [
      "-----------Performance-----------IBM\n",
      "Trading period: 5534 days\n",
      "Net Profit: -80.0%\n",
      "Annualized avg return: -5.276472714130827%\n",
      "Buy on 1st day and hold till last day strategy would have returned: 22.35%\n",
      "Result VS buy and hold: -102.35%\n"
     ]
    }
   ],
   "source": [
    "apply_strategy(mergedRes, mergedRes[\"Strategy Pre\"], \"IBM\")\n"
   ]
  },
  {
   "cell_type": "code",
   "execution_count": null,
   "id": "bf6657a3",
   "metadata": {},
   "outputs": [],
   "source": []
  }
 ],
 "metadata": {
  "kernelspec": {
   "display_name": "Python 3",
   "language": "python",
   "name": "python3"
  },
  "language_info": {
   "codemirror_mode": {
    "name": "ipython",
    "version": 3
   },
   "file_extension": ".py",
   "mimetype": "text/x-python",
   "name": "python",
   "nbconvert_exporter": "python",
   "pygments_lexer": "ipython3",
   "version": "3.8.8"
  }
 },
 "nbformat": 4,
 "nbformat_minor": 5
}
